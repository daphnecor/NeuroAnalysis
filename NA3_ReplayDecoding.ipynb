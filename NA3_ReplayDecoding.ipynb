{
  "nbformat": 4,
  "nbformat_minor": 5,
  "metadata": {
    "kernelspec": {
      "display_name": "Python 3",
      "language": "python",
      "name": "python3"
    },
    "language_info": {
      "codemirror_mode": {
        "name": "ipython",
        "version": 3
      },
      "file_extension": ".py",
      "mimetype": "text/x-python",
      "name": "python",
      "nbconvert_exporter": "python",
      "pygments_lexer": "ipython3",
      "version": "3.7.6"
    },
    "colab": {
      "name": "NA3_ReplayDecoding.ipynb",
      "provenance": [],
      "collapsed_sections": [],
      "include_colab_link": true
    }
  },
  "cells": [
    {
      "cell_type": "markdown",
      "metadata": {
        "id": "view-in-github",
        "colab_type": "text"
      },
      "source": [
        "<a href=\"https://colab.research.google.com/github/daphnecor/NeuroAnalysis/blob/main/NA3_ReplayDecoding.ipynb\" target=\"_parent\"><img src=\"https://colab.research.google.com/assets/colab-badge.svg\" alt=\"Open In Colab\"/></a>"
      ]
    },
    {
      "cell_type": "markdown",
      "metadata": {
        "id": "Qa0d193WsNzG"
      },
      "source": [
        "## Neuro Analysis 3: Replay and decoding\n",
        "\n",
        "```\n",
        "Student: Daphne Cornelisse 1066862\n",
        "```"
      ],
      "id": "Qa0d193WsNzG"
    },
    {
      "cell_type": "code",
      "metadata": {
        "cellView": "form",
        "id": "3vko8x_-sIMF",
        "colab": {
          "base_uri": "https://localhost:8080/"
        },
        "outputId": "166108bb-0e33-43a5-ad8d-63629db81aa3"
      },
      "source": [
        "#@title Commands to run matlab code in colab notebook \n",
        "!pip install oct2py\n",
        "!apt-get install octave\n",
        "\n",
        "%reload_ext oct2py.ipython"
      ],
      "id": "3vko8x_-sIMF",
      "execution_count": 41,
      "outputs": [
        {
          "output_type": "stream",
          "text": [
            "Requirement already satisfied: oct2py in /usr/local/lib/python3.7/dist-packages (5.2.0)\n",
            "Requirement already satisfied: numpy>=1.12 in /usr/local/lib/python3.7/dist-packages (from oct2py) (1.19.5)\n",
            "Requirement already satisfied: octave-kernel>=0.31.0 in /usr/local/lib/python3.7/dist-packages (from oct2py) (0.32.0)\n",
            "Requirement already satisfied: scipy>=0.17 in /usr/local/lib/python3.7/dist-packages (from oct2py) (1.4.1)\n",
            "Requirement already satisfied: jupyter-client>=4.3.0 in /usr/local/lib/python3.7/dist-packages (from octave-kernel>=0.31.0->oct2py) (5.3.5)\n",
            "Requirement already satisfied: metakernel>=0.24.0 in /usr/local/lib/python3.7/dist-packages (from octave-kernel>=0.31.0->oct2py) (0.27.5)\n",
            "Requirement already satisfied: ipykernel in /usr/local/lib/python3.7/dist-packages (from octave-kernel>=0.31.0->oct2py) (4.10.1)\n",
            "Requirement already satisfied: python-dateutil>=2.1 in /usr/local/lib/python3.7/dist-packages (from jupyter-client>=4.3.0->octave-kernel>=0.31.0->oct2py) (2.8.1)\n",
            "Requirement already satisfied: traitlets in /usr/local/lib/python3.7/dist-packages (from jupyter-client>=4.3.0->octave-kernel>=0.31.0->oct2py) (5.0.5)\n",
            "Requirement already satisfied: tornado>=4.1 in /usr/local/lib/python3.7/dist-packages (from jupyter-client>=4.3.0->octave-kernel>=0.31.0->oct2py) (5.1.1)\n",
            "Requirement already satisfied: jupyter-core>=4.6.0 in /usr/local/lib/python3.7/dist-packages (from jupyter-client>=4.3.0->octave-kernel>=0.31.0->oct2py) (4.7.1)\n",
            "Requirement already satisfied: pyzmq>=13 in /usr/local/lib/python3.7/dist-packages (from jupyter-client>=4.3.0->octave-kernel>=0.31.0->oct2py) (22.0.3)\n",
            "Requirement already satisfied: pexpect>=4.2 in /usr/local/lib/python3.7/dist-packages (from metakernel>=0.24.0->octave-kernel>=0.31.0->oct2py) (4.8.0)\n",
            "Requirement already satisfied: ipython>=4.0.0 in /usr/local/lib/python3.7/dist-packages (from ipykernel->octave-kernel>=0.31.0->oct2py) (5.5.0)\n",
            "Requirement already satisfied: six>=1.5 in /usr/local/lib/python3.7/dist-packages (from python-dateutil>=2.1->jupyter-client>=4.3.0->octave-kernel>=0.31.0->oct2py) (1.15.0)\n",
            "Requirement already satisfied: ipython-genutils in /usr/local/lib/python3.7/dist-packages (from traitlets->jupyter-client>=4.3.0->octave-kernel>=0.31.0->oct2py) (0.2.0)\n",
            "Requirement already satisfied: ptyprocess>=0.5 in /usr/local/lib/python3.7/dist-packages (from pexpect>=4.2->metakernel>=0.24.0->octave-kernel>=0.31.0->oct2py) (0.7.0)\n",
            "Requirement already satisfied: decorator in /usr/local/lib/python3.7/dist-packages (from ipython>=4.0.0->ipykernel->octave-kernel>=0.31.0->oct2py) (4.4.2)\n",
            "Requirement already satisfied: prompt-toolkit<2.0.0,>=1.0.4 in /usr/local/lib/python3.7/dist-packages (from ipython>=4.0.0->ipykernel->octave-kernel>=0.31.0->oct2py) (1.0.18)\n",
            "Requirement already satisfied: setuptools>=18.5 in /usr/local/lib/python3.7/dist-packages (from ipython>=4.0.0->ipykernel->octave-kernel>=0.31.0->oct2py) (56.1.0)\n",
            "Requirement already satisfied: pygments in /usr/local/lib/python3.7/dist-packages (from ipython>=4.0.0->ipykernel->octave-kernel>=0.31.0->oct2py) (2.6.1)\n",
            "Requirement already satisfied: simplegeneric>0.8 in /usr/local/lib/python3.7/dist-packages (from ipython>=4.0.0->ipykernel->octave-kernel>=0.31.0->oct2py) (0.8.1)\n",
            "Requirement already satisfied: pickleshare in /usr/local/lib/python3.7/dist-packages (from ipython>=4.0.0->ipykernel->octave-kernel>=0.31.0->oct2py) (0.7.5)\n",
            "Requirement already satisfied: wcwidth in /usr/local/lib/python3.7/dist-packages (from prompt-toolkit<2.0.0,>=1.0.4->ipython>=4.0.0->ipykernel->octave-kernel>=0.31.0->oct2py) (0.2.5)\n",
            "Reading package lists... Done\n",
            "Building dependency tree       \n",
            "Reading state information... Done\n",
            "octave is already the newest version (4.2.2-1ubuntu1).\n",
            "The following package was automatically installed and is no longer required:\n",
            "  libnvidia-common-460\n",
            "Use 'apt autoremove' to remove it.\n",
            "0 upgraded, 0 newly installed, 0 to remove and 34 not upgraded.\n"
          ],
          "name": "stdout"
        }
      ]
    },
    {
      "cell_type": "markdown",
      "metadata": {
        "id": "HTgVGQlosnfg"
      },
      "source": [
        "## 1 Decoding on a linear track"
      ],
      "id": "HTgVGQlosnfg"
    },
    {
      "cell_type": "markdown",
      "metadata": {
        "id": "accurate-protocol"
      },
      "source": [
        "**Main ideas**\n",
        "- If certain neurons are consistently active when a given stimulus is presented, we can predict the activity at a later timepoint.\n",
        "- In the context of the Hippocampus and place cells, the number of different positions $x$ (1D case) or $\\mathbf{x} = [x, y]$ (2D case)\n",
        " an animal can occupy in an environment are the external stimuli. \n",
        "  - These external stimuli are reflected in the activity of the cells.\n",
        "- Our goal is to reconstruct the current position of the animal given the recorded activity of a set of place cells.\n"
      ],
      "id": "accurate-protocol"
    },
    {
      "cell_type": "markdown",
      "metadata": {
        "id": "QzAFhWiCtASf"
      },
      "source": [
        "### 1.1 Place field properties\n",
        "\n",
        "- Generate a place field map\n",
        "- Spike trains are simulated as inhomogeneous Poisson processes, where the rate $\\lambda$ is\n",
        "determined by the current animal position $x$. \n",
        "- An inhomogeneous Poisson process is a random process where the instantaneous probability to have an event at time  (more precisely, the probability of having an event between times $t$ and $t+dt$  is given by: \n",
        "\n",
        "\\begin{align}\n",
        "P( \\text{event in}[t, t+dt]=\\lambda(t)dt\n",
        "\\end{align}"
      ],
      "id": "QzAFhWiCtASf"
    },
    {
      "cell_type": "code",
      "metadata": {
        "id": "expensive-yorkshire"
      },
      "source": [
        "%%octave\n",
        "\n",
        "track_length = 200; % the length of our linear track (eg in cm)\n",
        "average_firing_rate = 5; % the peak firing rate, averaged across the population \n",
        "n_cells = 20; % how many cells we are recording\n",
        "pf_centers = rand(n_cells,1) * track_length; % the centers of the place fields for all cells drawn randomly with a uniform distribution on the track\n",
        "pf_size = gamrnd(10,1, n_cells,1); % the size (width) of the place fields, drawn randomly from a gamma distribution \n",
        "pf_rate = exprnd(average_firing_rate,n_cells,1); % the peak firing rate for each cell, drawn from an exponential distribution"
      ],
      "id": "expensive-yorkshire",
      "execution_count": 59,
      "outputs": []
    },
    {
      "cell_type": "markdown",
      "metadata": {
        "id": "distributed-distance"
      },
      "source": [
        "### 1.2 Build the place field representation "
      ],
      "id": "distributed-distance"
    },
    {
      "cell_type": "code",
      "metadata": {
        "id": "varying-multimedia",
        "colab": {
          "base_uri": "https://localhost:8080/",
          "height": 436
        },
        "outputId": "d7536654-c939-4dd1-cf92-dadfca57b3da"
      },
      "source": [
        "%%octave\n",
        "\n",
        "bins=1:track_length;\n",
        "true_firing_rate=zeros(n_cells,track_length);\n",
        "%Place Fields have a Gaussian shape\n",
        "for i=1:n_cells\n",
        "    true_firing_rate(i,:)=pf_rate(i).*exp(-(bins-pf_centers(i)).^2/(2*pf_size(i)^2));\n",
        "end\n",
        "\n",
        "imagesc(true_firing_rate)"
      ],
      "id": "varying-multimedia",
      "execution_count": 60,
      "outputs": [
        {
          "output_type": "display_data",
          "data": {
            "image/png": "[encoded data removed]",
            "text/plain": [
              "<IPython.core.display.Image object>"
            ]
          },
          "metadata": {
            "tags": []
          }
        }
      ]
    },
    {
      "cell_type": "markdown",
      "metadata": {
        "id": "demographic-lighter"
      },
      "source": [
        "### 1.3 Generate random trajectory on the linear track\n",
        "\n",
        "Let's simulate the trajectory of the virtual mouse on the track. As we are only interested in the periods during which the animal is moving, we will omit the pauses at the two ends of the track. The trajectory will therefore consits of laps directly alternating between the two running directions. "
      ],
      "id": "demographic-lighter"
    },
    {
      "cell_type": "code",
      "metadata": {
        "id": "naked-authentication"
      },
      "source": [
        "%%octave\n",
        "\n",
        "n_runs = 20; \n",
        "av_running_speed = 10;% the average running speed (in cm/s)\n",
        "fps = 10; % the number of video frames per second \n",
        "running_speed_a = chi2rnd(av_running_speed, n_runs,1); % running speed in the two directions\n",
        "running_speed_b = chi2rnd(av_running_speed, n_runs,1); \n",
        "\n",
        "x = [];\n",
        "for i=1:n_runs\n",
        "  run_length = numel(bins) * fps / running_speed_a(i);\n",
        "  run1 = linspace(0.1, numel(bins), round(run_length));\n",
        "  run_length = numel(bins) * fps / running_speed_b(i);\n",
        "  run2 = linspace(numel(bins), 0.1, round(run_length));\n",
        "  x=cat(1,x,run1(:),run2(:));\n",
        "end\n",
        "\n",
        "t=(1:numel(x))./fps;  "
      ],
      "id": "naked-authentication",
      "execution_count": 61,
      "outputs": []
    },
    {
      "cell_type": "markdown",
      "metadata": {
        "id": "liable-zimbabwe"
      },
      "source": [
        "### 1.4 Generate spikes for cells\n",
        "Combining the rate maps and the trajectory generated above we can now simulate the spiking activity of our neural population."
      ],
      "id": "liable-zimbabwe"
    },
    {
      "cell_type": "code",
      "metadata": {
        "id": "decreased-example",
        "colab": {
          "base_uri": "https://localhost:8080/",
          "height": 436
        },
        "outputId": "6def731e-c91e-4a2e-cc05-4e95e3715493"
      },
      "source": [
        "%%octave\n",
        "\n",
        "sampling_rate = 10; %This corresponds to time windows of 100ms, a natural choice in the case of hippocampal data. \n",
        "t_sampling = (1:numel(t))./sampling_rate;\n",
        "x_sampling = ceil(interp1(t, x,t_sampling,'linear','extrap'));\n",
        "noise_firing_rate = 1; % the baseline noise firing rate\n",
        "\n",
        "spikes = zeros(n_cells,numel(t_sampling));\n",
        "\n",
        "for i=1:n_cells\n",
        "    inst_rate = true_firing_rate(i,x_sampling) + randn(1,numel(x_sampling))*noise_firing_rate;\n",
        "    inst_rate(inst_rate<0) = 0;\n",
        "    spikes_loc = poissrnd(inst_rate/sampling_rate);\n",
        "    spikes(i,:)=spikes_loc;\n",
        "    \n",
        "end\n",
        "\n",
        "spy(spikes)\n",
        "axis square"
      ],
      "id": "decreased-example",
      "execution_count": 62,
      "outputs": [
        {
          "output_type": "display_data",
          "data": {
            "image/png": "[encoded data removed]",
            "text/plain": [
              "<IPython.core.display.Image object>"
            ]
          },
          "metadata": {
            "tags": []
          }
        }
      ]
    },
    {
      "cell_type": "markdown",
      "metadata": {
        "id": "european-consolidation"
      },
      "source": [
        "### 1.5 Reconstruct place-related activity from sampled activity\n",
        "\n",
        "We are now ready to proceed with the first step towards decoding of position. We will start by looking at how different locations are encoded by the neurons. To do that we will collect all the activity emitted by the neurons in a specific location and average it to obtain a Population Vector (PV) associated to that position, or equivalently we will say that the firing rate combination of this PV represent that location. Since we will do this for every location in the environment we will end up having the PVs associated to every portion of the environment. "
      ],
      "id": "european-consolidation"
    },
    {
      "cell_type": "code",
      "metadata": {
        "id": "empirical-lunch",
        "colab": {
          "base_uri": "https://localhost:8080/",
          "height": 436
        },
        "outputId": "511c91e7-e8b3-48b6-e7c3-3e25eee21e41"
      },
      "source": [
        "%%octave\n",
        "\n",
        "% To estimate the PVs we will use bins of some cms in length \n",
        "bin_size = 4; % Size in cm of bins to use for encoding\n",
        "n_bins = track_length/bin_size;\n",
        "\n",
        "estim_firing_rate=zeros(n_cells,n_bins);\n",
        "\n",
        "% Rescale the trajectory to the new binning \n",
        "x_sampling_binned = ceil(x_sampling/(bin_size));\n",
        "\n",
        "% Calculate the PV for every bin\n",
        "for j=1:n_bins\n",
        "    \n",
        "    X_bin=find(x_sampling_binned==j);\n",
        "    estim_firing_rate(:,j)=sum(spikes(:,X_bin),2)*sampling_rate./(numel(X_bin));\n",
        "end\n",
        "\n",
        "imagesc(estim_firing_rate)"
      ],
      "id": "empirical-lunch",
      "execution_count": 63,
      "outputs": [
        {
          "output_type": "display_data",
          "data": {
            "image/png": "[encoded data removed]",
            "text/plain": [
              "<IPython.core.display.Image object>"
            ]
          },
          "metadata": {
            "tags": []
          }
        }
      ]
    },
    {
      "cell_type": "code",
      "metadata": {
        "colab": {
          "base_uri": "https://localhost:8080/",
          "height": 436
        },
        "id": "AWdyRNe9ASky",
        "outputId": "38729ee2-4e6b-4247-e2a3-4d83f2e3c9b4"
      },
      "source": [
        "%%octave\n",
        "\n",
        "imagesc(true_firing_rate)"
      ],
      "id": "AWdyRNe9ASky",
      "execution_count": 64,
      "outputs": [
        {
          "output_type": "display_data",
          "data": {
            "image/png": "[encoded data removed]",
            "text/plain": [
              "<IPython.core.display.Image object>"
            ]
          },
          "metadata": {
            "tags": []
          }
        }
      ]
    },
    {
      "cell_type": "markdown",
      "metadata": {
        "id": "systematic-anatomy"
      },
      "source": [
        "Since the spikes we are using to estimate the track representation are a finite sample of the '\"ground-truth\" maps, and we added random noise in the process, the reconstructed maps will not be identical to the original ones. \n",
        "\n",
        "Actually, they can be quite different, especially in real experiments where the amount of data is limited, the behaviour of the animal is not completely controlled, neural activity is subject to high level of noise, and obviously we don't have access to the \"ground-truth\". \n",
        "\n",
        "---\n",
        "\n",
        "> **Question 1.** In the context of the simulated data, one can look at the effects of data amount and the level of noise on the accuracy of the PV estimation. Build a table expressing the relationship between noise level, amount of recorded neurons and the difference between real and constructed maps.\n",
        "\n",
        "---\n",
        "\n",
        "We select a subset of the `true_firing_rate` array to make sure the shapes are the same.\n",
        "\n",
        "- `noise_firing_rate` controls the amount of noise in the system. We increase the noise by allocating a larger number to this variable.\n",
        "- `n_cells` is the number of neurons we record from. \n"
      ],
      "id": "systematic-anatomy"
    },
    {
      "cell_type": "markdown",
      "metadata": {
        "id": "oFZA1vyfKLc6"
      },
      "source": [
        "\n",
        "\n",
        "`n_cells`        | `noise_firing_rate`   | `max`(Euclidean distance)\n",
        "--------------   |  ------------------   | -----------------\n",
        "   20            |   1                   | 6.6082\n",
        "   50            |   1                   | 7.3\n",
        "   100           |   1                   | 9.8\n",
        "   20            |   5                   | 11.927\n",
        "   20            |   10                  | 22.617\n",
        "\n",
        "\n",
        "From the table we can derive the following: \n",
        "- The more neurons from which we record, the larger the differences between the true firing rates and the estimates ones.\n",
        "- The higher the noise firing rate, the larger the differences between the true firing rates and the estimates ones.\n"
      ],
      "id": "oFZA1vyfKLc6"
    },
    {
      "cell_type": "code",
      "metadata": {
        "id": "medical-hawaii",
        "colab": {
          "base_uri": "https://localhost:8080/",
          "height": 52
        },
        "outputId": "b2281463-6bef-48f6-bd9d-551edf926766"
      },
      "source": [
        "%%octave\n",
        "\n",
        "disp(size(true_firing_rate(:, 1:bin_size:end)))\n",
        "\n",
        "disp(size(estim_firing_rate))"
      ],
      "id": "medical-hawaii",
      "execution_count": 65,
      "outputs": [
        {
          "output_type": "display_data",
          "data": {
            "text/plain": [
              "   20   50"
            ]
          },
          "metadata": {
            "tags": []
          }
        },
        {
          "output_type": "display_data",
          "data": {
            "text/plain": [
              "   20   50"
            ]
          },
          "metadata": {
            "tags": []
          }
        }
      ]
    },
    {
      "cell_type": "code",
      "metadata": {
        "colab": {
          "base_uri": "https://localhost:8080/",
          "height": 34
        },
        "id": "FZI-TtowIesd",
        "outputId": "43f2aa83-2768-4e23-ea0e-6587b1fa628b"
      },
      "source": [
        "%%octave\n",
        "\n",
        "% Take the maximum of the Euclidean distance to quantify the difference\n",
        "max(sqrt(sum((true_firing_rate(:, 1:bin_size:end) - estim_firing_rate).^2)))"
      ],
      "id": "FZI-TtowIesd",
      "execution_count": 66,
      "outputs": [
        {
          "output_type": "display_data",
          "data": {
            "text/plain": [
              "ans =  4.1254"
            ]
          },
          "metadata": {
            "tags": []
          }
        }
      ]
    },
    {
      "cell_type": "markdown",
      "metadata": {
        "id": "KIx4Y0D-xHQi"
      },
      "source": [
        "## 2 Bayesian decoding"
      ],
      "id": "KIx4Y0D-xHQi"
    },
    {
      "cell_type": "markdown",
      "metadata": {
        "id": "hydraulic-sport"
      },
      "source": [
        "Now that we have estimated the PVs associated to the track environment, we can move on to decoding. \n",
        "\n",
        "A very common approach is given by the so called Bayesian Decoding. Let $P(s)$ denote the probability of presentation of stimulus $s$ (belonging to a set $S$) and $P(r|s)$ denote the conditional probability of obtaining a population response $r$ (out of a response set $R$) when stimulus $s$ is presented. Using Bayes'theorem, we obtain:\n",
        "\\begin{align}\n",
        "P(s|r)=\\frac{P(r|s) P(s)}{P(r)}\n",
        "\\end{align}\n",
        "\n",
        "This equation gives the posterior probability that, given a response $r$, stimulus s was presented. Bayesian decoding calculates from this posterior probability distribution a single prediction of the most likely stimulus \n",
        "\\begin{align}\n",
        "s^* = \\text{arg max}_s P(s|r)\n",
        "\\end{align}\n",
        "\n",
        "In our case the set of stimuli $S$ are the different locations in the environment. Since we are looking for the maximum, we can ignore the denominator term $P(r)$, as it is common to all positions s (luckily for us, as it is generally very difficult to estimate experimentally). Moreover we will assume that every position s is equiprobable, so we can also ignore the term $P(s)$. Assuming that our neurons are independant (a banality in our simulations, but not necessarily true when considering real neurons), we are left with: \n",
        "\\begin{align}\n",
        "s^*= \\text{arg max}_s \\left( \\prod_iP(r_i|s) \\right)\n",
        "\\end{align}\n",
        "\n",
        "Here is the code to perform bayesian decoding: "
      ],
      "id": "hydraulic-sport"
    },
    {
      "cell_type": "markdown",
      "metadata": {
        "id": "cXEOqppbxNl7"
      },
      "source": [
        "### 2.1 Bayesian decoding with single placefields"
      ],
      "id": "cXEOqppbxNl7"
    },
    {
      "cell_type": "code",
      "metadata": {
        "id": "gRGaBPfWqoxi"
      },
      "source": [
        "%%octave\n",
        "\n",
        "% First, we generate a new set of runs and spikes from the same cells to use for the decoding, so that we avoid overfitting problems by using the same data for training and testing. \n",
        "n_runs_deco = 10;\n",
        "\n",
        "av_running_speed = 20;% the average running speed (in cm/s)\n",
        "fps = 10; % the number of \"video frames\" per second \n",
        "running_speed_a = chi2rnd(av_running_speed, n_runs_deco,1); % running speed in the two directions\n",
        "running_speed_b = chi2rnd(av_running_speed, n_runs_deco,1); \n",
        "\n",
        "x = [];\n",
        "for i=1:n_runs_deco\n",
        "    run_length = numel(bins) * fps / running_speed_a(i);\n",
        "    run1 = linspace(0.1, numel(bins), round(run_length));\n",
        "    run_length = numel(bins) * fps / running_speed_b(i);\n",
        "    run2 = linspace(numel(bins), 0.1, round(run_length));\n",
        "    x=cat(1,x,run1(:),run2(:));\n",
        "end\n",
        "\n",
        "t=(1:numel(x))./fps;  \n",
        "\n",
        "sampling_rate = 10; %This corresponds to time windows of 100ms, a natural choice in the case of hippocampal data. \n",
        "t_sampling = (1:numel(t))./sampling_rate;\n",
        "x_sampling = ceil(interp1(t, x,t_sampling,'linear','extrap'))';\n",
        "noise_firing_rate = 1; % the baseline noise firing rate\n",
        "\n",
        "spikes = zeros(n_cells,numel(t_sampling));\n",
        "\n",
        "for i=1:n_cells\n",
        "    inst_rate = true_firing_rate(i,x_sampling) + randn(1,numel(x_sampling))*noise_firing_rate;\n",
        "    inst_rate(inst_rate < 0) = 0;\n",
        "    spikes_loc = poissrnd(inst_rate/sampling_rate);\n",
        "    spikes(i,:)=spikes_loc;\n",
        "end"
      ],
      "id": "gRGaBPfWqoxi",
      "execution_count": 67,
      "outputs": []
    },
    {
      "cell_type": "code",
      "metadata": {
        "id": "lJZakSKb7HDP"
      },
      "source": [
        "%%octave\n",
        "\n",
        "% Here we perform the decoding using the data just generated\n",
        "x_decoded=zeros(size(spikes, 2), 1);\n",
        "\n",
        "for t_bin=1:size(spikes,2)\n",
        "    \n",
        "    if(sum(spikes(:,t_bin),1) > 0) % Check if the time window contains spikes\n",
        "        Post_p=NaN(size(estim_firing_rate,2), 1);\n",
        "        \n",
        "        for i=1:size(estim_firing_rate, 2)\n",
        "            % Note that we work with log so that we can sum probabilities\n",
        "            % instead of multiplying them \n",
        "            Post_p(i)=sum(log(poisspdf(spikes(:,t_bin), estim_firing_rate(:,i)/sampling_rate)));\n",
        "        end\n",
        "        \n",
        "        x_decoded(t_bin) = find(Post_p==max(Post_p), 1, 'first');\n",
        "\n",
        "    else\n",
        "        x_decoded(t_bin) = NaN;   \n",
        "    end\n",
        "end"
      ],
      "id": "lJZakSKb7HDP",
      "execution_count": 68,
      "outputs": []
    },
    {
      "cell_type": "markdown",
      "metadata": {
        "id": "smart-radical"
      },
      "source": [
        "---\n",
        "\n",
        "> **Question 2.** What is the reason for computing the log-probability instead of a probability?\n",
        "\n",
        "---\n",
        "\n",
        "I can see three main reasons:\n",
        "- Taking the log simplifies computations. (e.g. $\\log(ab) = \\log(a) + \\log(b)$)\n",
        "- Probabilities are often values very close to zero. Log probabilities make it easier to compare values close to zero.\n",
        "- In statistical physics log probabilities have a physical meaning (think for example about entropy)."
      ],
      "id": "smart-radical"
    },
    {
      "cell_type": "code",
      "metadata": {
        "id": "responsible-frame",
        "colab": {
          "base_uri": "https://localhost:8080/",
          "height": 436
        },
        "outputId": "9eb8674a-16bc-4a0b-8137-e89d7918364a"
      },
      "source": [
        "%%octave \n",
        "\n",
        "%Plot the real trajectory agains the reconstructed one\n",
        "plot(t_sampling, x_decoded*bin_size, t_sampling, x_sampling)"
      ],
      "id": "responsible-frame",
      "execution_count": 69,
      "outputs": [
        {
          "output_type": "display_data",
          "data": {
            "image/png": "[encoded data removed]",
            "text/plain": [
              "<IPython.core.display.Image object>"
            ]
          },
          "metadata": {
            "tags": []
          }
        }
      ]
    },
    {
      "cell_type": "code",
      "metadata": {
        "id": "5T84pI5TZljs",
        "colab": {
          "base_uri": "https://localhost:8080/",
          "height": 436
        },
        "outputId": "267660e0-e888-4971-d483-65d328fdaf27"
      },
      "source": [
        "%%octave\n",
        "\n",
        "%Distribution of errors\n",
        "hist(sqrt(((x_sampling - x_decoded*bin_size).^2)))"
      ],
      "id": "5T84pI5TZljs",
      "execution_count": 70,
      "outputs": [
        {
          "output_type": "display_data",
          "data": {
            "image/png": "[encoded data removed]",
            "text/plain": [
              "<IPython.core.display.Image object>"
            ]
          },
          "metadata": {
            "tags": []
          }
        }
      ]
    },
    {
      "cell_type": "code",
      "metadata": {
        "id": "tba6ufbcahc5",
        "colab": {
          "base_uri": "https://localhost:8080/",
          "height": 34
        },
        "outputId": "1efd35a6-4301-48ce-853b-8791d3328761"
      },
      "source": [
        "%%octave\n",
        "\n",
        "%To reduce the effects of the few large errors, the median error, rather\n",
        "%than the mean error, is a commonly used measure of decoding precision\n",
        "\n",
        "median(sqrt(((x_sampling-x_decoded*bin_size).^2)))"
      ],
      "id": "tba6ufbcahc5",
      "execution_count": 71,
      "outputs": [
        {
          "output_type": "display_data",
          "data": {
            "text/plain": [
              "ans = NaN"
            ]
          },
          "metadata": {
            "tags": []
          }
        }
      ]
    },
    {
      "cell_type": "markdown",
      "metadata": {
        "id": "VZe-OuQVv9BT"
      },
      "source": [
        "---\n",
        "\n",
        "> **Question 3.** how much data is required to reduce the median error? Use smaller fractions of data to estimate PVs and measure how this affects the decoding error. Use 30 cells, between 1 and 20 runs for the estimation of the place fields and use 2 levels for noise (ex. 1 and 5). \n",
        "\n",
        "---\n",
        "\n",
        "Reducing the PV size reduces the decoding error. This makes sense as the smaller the size, the more accurate we can estimate the place fields.\n"
      ],
      "id": "VZe-OuQVv9BT"
    },
    {
      "cell_type": "markdown",
      "metadata": {
        "id": "puijKRi9v9LY"
      },
      "source": [
        "---\n",
        "\n",
        "> **Question 4.** How does the reconstruction error scales with the number of available place cells? Having many cells representing an environment allows for more information to be found in the same time window and reduces the effect of random noise. But how many place cells would be requied on average to accurately represent position on a linear track? Quantify the average decoding error obtainable with different population sizes and find for what value it reaches its asymptot. You can use 5 runs for the encoding and a noise level of 5. \n",
        "\n",
        "---\n",
        "\n",
        "According to my results, around 100-200 neurons are required to accurately decode represent position."
      ],
      "id": "puijKRi9v9LY"
    },
    {
      "cell_type": "markdown",
      "metadata": {
        "id": "substantial-phoenix"
      },
      "source": [
        "---\n",
        "\n",
        "> **Question 5.** Bayesian decoding is not the only available option (Abbott). Another possibility is to directly compare the activity present in a given time window with all PVs and find which one is the more \"similar\" (then the associated position would be the decoded one). As a definition of similarity one can use euclidean distance, correlation, cosine distance. Compare the performance of different decoding approaches. For example use Bayesian and correlation-based decoding. Run the same analysis of Question 4 (different cell sample size) with the two methods. \n",
        "\n",
        "---\n",
        "\n",
        "Different methods give different results, here I used the absolute distance and the euclidean (pdist doesn't work in octave apparently..)"
      ],
      "id": "substantial-phoenix"
    },
    {
      "cell_type": "code",
      "metadata": {
        "id": "after-harvard",
        "colab": {
          "base_uri": "https://localhost:8080/",
          "height": 34
        },
        "outputId": "212950a9-7bad-49fb-8dd6-112cd36b81d7"
      },
      "source": [
        "%%octave\n",
        "\n",
        "max(sqrt(sum(x_sampling-x_decoded*bin_size.^2)))"
      ],
      "id": "after-harvard",
      "execution_count": 86,
      "outputs": [
        {
          "output_type": "display_data",
          "data": {
            "text/plain": [
              "ans = NaN"
            ]
          },
          "metadata": {
            "tags": []
          }
        }
      ]
    },
    {
      "cell_type": "code",
      "metadata": {
        "colab": {
          "base_uri": "https://localhost:8080/",
          "height": 34
        },
        "id": "SB4BxCbQ556T",
        "outputId": "83ff9088-8267-4a87-887b-d737441e2963"
      },
      "source": [
        "%%octave\n",
        "\n",
        "max(abs(x_sampling-x_decoded*bin_size))"
      ],
      "id": "SB4BxCbQ556T",
      "execution_count": 87,
      "outputs": [
        {
          "output_type": "display_data",
          "data": {
            "text/plain": [
              "ans =  198"
            ]
          },
          "metadata": {
            "tags": []
          }
        }
      ]
    },
    {
      "cell_type": "markdown",
      "metadata": {
        "id": "JsRDrwPZw-1W"
      },
      "source": [
        "### 2.2 Multiple place field case"
      ],
      "id": "JsRDrwPZw-1W"
    },
    {
      "cell_type": "markdown",
      "metadata": {
        "id": "chubby-texture"
      },
      "source": [
        "Multiple place field case\n",
        "The case presented above is the most ideal one can think of for performing decoding of position: a simple 1D environment with place cells being active in only one location.\n",
        "We now want to see what are the effects on decoding of more heterogeneous conditions. We start with allowing each place cell to develop, with a certain probability, a second place field in a new location. We can generate such map with the following code:"
      ],
      "id": "chubby-texture"
    },
    {
      "cell_type": "code",
      "metadata": {
        "id": "durable-maria"
      },
      "source": [
        "%%octave\n",
        "\n",
        "track_length = 200; % the length of our linear track (eg in centimeter)\n",
        "average_firing_rate = 5; % the peak firing rate, averaged across the population \n",
        "n_cells = 20; % how many cells we are recording\n",
        "pf_centers = rand(n_cells,2) * track_length; % the centers of the place fields for all cells drawn randomly with a uniform distribution on the track\n",
        "pf_size = gamrnd(10,1, n_cells,2); % the size (width) of the place fields, drawn randomly from a gamma distribution \n",
        "pf_rate = exprnd(average_firing_rate,n_cells,2); % the peak firing rate for each cell, drawn from an exponential distribution"
      ],
      "id": "durable-maria",
      "execution_count": 56,
      "outputs": []
    },
    {
      "cell_type": "code",
      "metadata": {
        "id": "going-isolation",
        "colab": {
          "base_uri": "https://localhost:8080/",
          "height": 436
        },
        "outputId": "f57671f8-eb70-41ff-f5d1-3caf11c6c31a"
      },
      "source": [
        "%%octave\n",
        "\n",
        "prob_2field=0.9; %This is the probability that a cell will have 2 fields instead of one\n",
        "\n",
        "bins=1:track_length;\n",
        "true_firing_rate=zeros(n_cells,track_length);\n",
        "\n",
        "for i=1:n_cells\n",
        "    n_fields=1+(rand(1)<prob_2field);\n",
        "    for j=1:n_fields\n",
        "    true_firing_rate(i,:)=true_firing_rate(i,:)+pf_rate(i,j).*exp(-(bins-pf_centers(i,j)).^2/(2*pf_size(i,j)^2));\n",
        "    end\n",
        "end\n",
        "\n",
        "imagesc(true_firing_rate)"
      ],
      "id": "going-isolation",
      "execution_count": 57,
      "outputs": [
        {
          "output_type": "display_data",
          "data": {
            "image/png": "[encoded data removed]",
            "text/plain": [
              "<IPython.core.display.Image object>"
            ]
          },
          "metadata": {
            "tags": []
          }
        }
      ]
    }
  ]
}